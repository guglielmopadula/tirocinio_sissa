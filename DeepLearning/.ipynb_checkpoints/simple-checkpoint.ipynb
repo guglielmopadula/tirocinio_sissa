{
 "cells": [
  {
   "cell_type": "code",
   "execution_count": 1,
   "id": "d4862ec7-2e5f-453e-bd39-40cf5e0b2848",
   "metadata": {
    "tags": []
   },
   "outputs": [
    {
     "name": "stderr",
     "output_type": "stream",
     "text": [
      "/home/cyberguli/.conda/envs/sissa/lib/python3.8/site-packages/tqdm/auto.py:22: TqdmWarning: IProgress not found. Please update jupyter and ipywidgets. See https://ipywidgets.readthedocs.io/en/stable/user_install.html\n",
      "  from .autonotebook import tqdm as notebook_tqdm\n"
     ]
    },
    {
     "data": {
      "text/plain": [
       "<torch._C.Generator at 0x7f89c3ed1150>"
      ]
     },
     "execution_count": 1,
     "metadata": {},
     "output_type": "execute_result"
    }
   ],
   "source": [
    "import numpy as np\n",
    "from torch.utils.data import DataLoader\n",
    "from stl import mesh\n",
    "from torch.utils.data import Dataset\n",
    "import os\n",
    "import torch\n",
    "import torch.nn as nn\n",
    "import torchvision.transforms as transforms\n",
    "import matplotlib.pyplot as plt\n",
    "from ordered_set import OrderedSet\n",
    "device = 'cuda' if torch.cuda.is_available() else 'cpu'\n",
    "#device='cpu'\n",
    "torch.manual_seed(0)\n"
   ]
  },
  {
   "cell_type": "code",
   "execution_count": null,
   "id": "1555c9c6-307c-4232-b187-fa4ffd539604",
   "metadata": {},
   "outputs": [],
   "source": []
  },
  {
   "cell_type": "code",
   "execution_count": null,
   "id": "bf8ef031-6426-452f-a21a-1b461cc5450b",
   "metadata": {},
   "outputs": [],
   "source": []
  },
  {
   "cell_type": "code",
   "execution_count": null,
   "id": "4efd8e62-33b5-4145-99e3-f47519a7de50",
   "metadata": {},
   "outputs": [],
   "source": []
  },
  {
   "cell_type": "code",
   "execution_count": 2,
   "id": "33b39bfc-3752-4cde-92eb-b16f0b945871",
   "metadata": {},
   "outputs": [],
   "source": [
    "def getinfo(stl):\n",
    "    your_mesh = mesh.Mesh.from_file(stl)\n",
    "    myList = list(OrderedSet(tuple(map(tuple,your_mesh.vectors.reshape(36,3)))))\n",
    "    array=your_mesh.vectors\n",
    "    K=len(your_mesh)\n",
    "    topo=np.zeros((12,3))\n",
    "    for i in range(12):\n",
    "        for j in range(3):\n",
    "            topo[i,j]=myList.index(tuple(array[i,j].tolist()))\n",
    "    N=9*K\n",
    "    return torch.tensor(array.copy()),torch.tensor(myList),N,len(myList)*3,torch.tensor(topo, dtype=torch.int64)\n",
    "    \n",
    "def applytopology(V,M):\n",
    "    Q=torch.zeros((M.shape[0],3,3),device=device)\n",
    "    for i in range(M.shape[0]):\n",
    "        for j in range(M.shape[1]):\n",
    "            Q[i,j]=V[M[i,j].item()]\n",
    "    return Q"
   ]
  },
  {
   "cell_type": "code",
   "execution_count": 4,
   "id": "3c2844e4",
   "metadata": {},
   "outputs": [],
   "source": [
    "data=[]\n",
    "M=0\n",
    "N=0\n",
    "K=0\n",
    "for i in range(1,1000):\n",
    "    meshs,points,N,K,M=getinfo(\"parallelepiped_{}.stl\".format(i))\n",
    "    if device!='cpu':\n",
    "        meshs=meshs.to(device)\n",
    "    data.append(meshs)\n",
    "\n",
    "if device!='cpu':\n",
    "    M=M.to(device)"
   ]
  },
  {
   "cell_type": "code",
   "execution_count": 5,
   "id": "de9d29c5-c385-414f-9003-a7231cefb4b9",
   "metadata": {},
   "outputs": [],
   "source": [
    "class Decoder(nn.Module):\n",
    "    def __init__(self, z_dim, hidden_dim):\n",
    "        super().__init__()\n",
    "        self.fc1 = nn.Linear(z_dim, hidden_dim)\n",
    "        self.fc2 = nn.Linear(hidden_dim, hidden_dim)\n",
    "        self.fc3 = nn.Linear(hidden_dim, hidden_dim)\n",
    "        self.fc4 = nn.Linear(hidden_dim, K)\n",
    "        self.softplus = nn.Softplus()\n",
    "        self.tanh = nn.Tanh()\n",
    "\n",
    "    def forward(self, z):\n",
    "        temp=self.fc4(self.fc3(self.fc2(self.fc1(z))))\n",
    "        result=applytopology(temp.reshape((int(K//3),3)),M)\n",
    "        return result\n",
    "\n",
    "class Encoder(nn.Module):\n",
    "    def __init__(self, z_dim, hidden_dim):\n",
    "        super().__init__()\n",
    "        self.fc1 = nn.Linear(N,hidden_dim)\n",
    "        self.fc21 = nn.Linear(hidden_dim, z_dim)\n",
    "        self.fc22 = nn.Linear(hidden_dim, z_dim)\n",
    "        self.fc32 = nn.Sigmoid()\n",
    "        self.Normal = torch.distributions.Normal(0, 1)\n",
    "        if device!='cpu':\n",
    "            self.Normal.loc = self.Normal.loc.cuda() \n",
    "            self.Normal.scale = self.Normal.scale.cuda()\n",
    "        self.kl = 0\n",
    "\n",
    "\n",
    "\n",
    "    def forward(self, x):\n",
    "        x=x.reshape(N)\n",
    "        hidden=self.fc1(x)\n",
    "        mu=self.fc21(hidden)\n",
    "        sigma=torch.exp(self.fc32(self.fc22(hidden)))\n",
    "        z = mu + sigma*self.Normal.sample(mu.shape)\n",
    "        self.kl = ((sigma**2 + mu**2)/2 - torch.log(sigma) - 1/2).sum()\n",
    "        return z\n",
    "\n",
    "        \n",
    "class VAE(nn.Module):\n",
    "    def __init__(self, z_dim=2, hidden_dim=30, use_cuda=False):\n",
    "        super().__init__()\n",
    "        self.encoder = Encoder(z_dim, hidden_dim)\n",
    "        self.decoder = Decoder(z_dim, hidden_dim)\n",
    "        self.z_dim = z_dim\n",
    "        \n",
    "\n",
    "    def forward(self, x):\n",
    "        z = self.encoder(x)\n",
    "        return self.decoder(z)\n",
    "\n",
    "\n",
    "def train(vae, data,epochs=5000):\n",
    "    datatrain=data[1:len(data)//3]\n",
    "    datatest=data[len(data)//3:]\n",
    "    errortrain=[]\n",
    "    errortest=[]\n",
    "    opt = torch.optim.Adam(vae.parameters(),lr=0.0001)\n",
    "    for epoch in range(epochs):\n",
    "        if epoch%100==0:\n",
    "            print(epoch)\n",
    "        loss=0\n",
    "        losstest=0\n",
    "        opt.zero_grad()\n",
    "        for x in datatrain:\n",
    "            x_hat = vae(x)\n",
    "            loss = loss+1/(2*K*len(data))*((x - x_hat)**2).sum() + vae.encoder.kl/len(data)\n",
    "        loss.backward()\n",
    "        opt.step()\n",
    "        for x in datatest:\n",
    "            x_hat = vae(x)\n",
    "            losstest = losstest+1/(2*K*len(data))*((x - x_hat)**2).sum() + vae.encoder.kl/len(data)\n",
    "        errortrain.append(loss.clone().detach().item())\n",
    "        errortest.append(losstest.clone().detach().item())\n",
    "    return vae,errortrain,errortest\n",
    "\n",
    "\n",
    "\n",
    "\n"
   ]
  },
  {
   "cell_type": "code",
   "execution_count": 6,
   "id": "a652a8a8-d8eb-4795-83e4-35dc2d18a20c",
   "metadata": {},
   "outputs": [
    {
     "name": "stdout",
     "output_type": "stream",
     "text": [
      "0\n"
     ]
    },
    {
     "data": {
      "text/plain": [
       "[<matplotlib.lines.Line2D at 0x7f89060d1730>]"
      ]
     },
     "execution_count": 6,
     "metadata": {},
     "output_type": "execute_result"
    },
    {
     "data": {
      "image/png": "[encoded data removed]",
      "text/plain": [
       "<Figure size 432x288 with 1 Axes>"
      ]
     },
     "metadata": {
      "needs_background": "light"
     },
     "output_type": "display_data"
    }
   ],
   "source": [
    "vae = VAE().to(device) # GPU\n",
    "#vae.load_state_dict(torch.load(\"cube.pt\"))\n",
    "vae,errortrain,errortest = train(vae, data)\n",
    "plt.plot([i for i in range(len(errortrain))],errortrain)\n",
    "plt.plot([i for i in range(len(errortest))],errortest)"
   ]
  },
  {
   "cell_type": "code",
   "execution_count": 7,
   "id": "07580667-b766-4b76-bdaf-fbf07ac34214",
   "metadata": {},
   "outputs": [],
   "source": [
    "ztest=torch.distributions.Normal(0, 1).sample([2]).to(device)\n",
    "h=vae.decoder(ztest).to('cpu').detach().numpy()\n",
    "cube = mesh.Mesh(np.zeros(12, dtype=mesh.Mesh.dtype))\n",
    "cube.vectors=h\n",
    "cube.save('test.stl')\n",
    "cube= mesh.Mesh.from_file('test.stl')\n"
   ]
  },
  {
   "cell_type": "code",
   "execution_count": 8,
   "id": "d3c4770b",
   "metadata": {},
   "outputs": [
    {
     "name": "stdout",
     "output_type": "stream",
     "text": [
      "[[[-0.3051777  -0.35753715  0.11237846]\n",
      "  [-0.47146028  0.23230296  0.21412586]\n",
      "  [ 0.02460841 -0.23201647  0.06678277]]\n",
      "\n",
      " [[-0.4471016   0.20653391  0.22760166]\n",
      "  [-0.47146028  0.23230296  0.21412586]\n",
      "  [ 0.02460841 -0.23201647  0.06678277]]\n",
      "\n",
      " [[ 0.12233157 -0.04683003 -0.16261393]\n",
      "  [ 0.3426627   0.54524106  0.21695885]\n",
      "  [ 0.36347124 -0.08727853  0.06894679]]\n",
      "\n",
      " [[-0.10323443  0.15502667 -0.005298  ]\n",
      "  [ 0.3426627   0.54524106  0.21695885]\n",
      "  [ 0.36347124 -0.08727853  0.06894679]]\n",
      "\n",
      " [[-0.3051777  -0.35753715  0.11237846]\n",
      "  [ 0.12233157 -0.04683003 -0.16261393]\n",
      "  [ 0.02460841 -0.23201647  0.06678277]]\n",
      "\n",
      " [[ 0.36347124 -0.08727853  0.06894679]\n",
      "  [ 0.12233157 -0.04683003 -0.16261393]\n",
      "  [ 0.02460841 -0.23201647  0.06678277]]\n",
      "\n",
      " [[-0.47146028  0.23230296  0.21412586]\n",
      "  [ 0.3426627   0.54524106  0.21695885]\n",
      "  [-0.4471016   0.20653391  0.22760166]]\n",
      "\n",
      " [[-0.10323443  0.15502667 -0.005298  ]\n",
      "  [ 0.3426627   0.54524106  0.21695885]\n",
      "  [-0.4471016   0.20653391  0.22760166]]\n",
      "\n",
      " [[-0.3051777  -0.35753715  0.11237846]\n",
      "  [ 0.12233157 -0.04683003 -0.16261393]\n",
      "  [-0.47146028  0.23230296  0.21412586]]\n",
      "\n",
      " [[ 0.3426627   0.54524106  0.21695885]\n",
      "  [ 0.12233157 -0.04683003 -0.16261393]\n",
      "  [-0.47146028  0.23230296  0.21412586]]\n",
      "\n",
      " [[ 0.02460841 -0.23201647  0.06678277]\n",
      "  [ 0.36347124 -0.08727853  0.06894679]\n",
      "  [-0.4471016   0.20653391  0.22760166]]\n",
      "\n",
      " [[-0.10323443  0.15502667 -0.005298  ]\n",
      "  [ 0.36347124 -0.08727853  0.06894679]\n",
      "  [-0.4471016   0.20653391  0.22760166]]]\n"
     ]
    }
   ],
   "source": [
    "print(h)"
   ]
  },
  {
   "cell_type": "code",
   "execution_count": null,
   "id": "ca148633-a706-4b07-a127-90ef4efeab27",
   "metadata": {},
   "outputs": [],
   "source": []
  },
  {
   "cell_type": "code",
   "execution_count": null,
   "id": "acf74acd-deb6-4161-8b30-a4ed888bdd7e",
   "metadata": {},
   "outputs": [],
   "source": []
  },
  {
   "cell_type": "code",
   "execution_count": null,
   "id": "2a31bf28-49da-41b8-9060-ebb1fefbd0e9",
   "metadata": {},
   "outputs": [],
   "source": []
  },
  {
   "cell_type": "code",
   "execution_count": null,
   "id": "39967648-1d04-4cd8-afe3-71b925548cfd",
   "metadata": {},
   "outputs": [],
   "source": []
  }
 ],
 "metadata": {
  "kernelspec": {
   "display_name": "Python 3 (ipykernel)",
   "language": "python",
   "name": "python3"
  },
  "language_info": {
   "codemirror_mode": {
    "name": "ipython",
    "version": 3
   },
   "file_extension": ".py",
   "mimetype": "text/x-python",
   "name": "python",
   "nbconvert_exporter": "python",
   "pygments_lexer": "ipython3",
   "version": "3.8.12"
  }
 },
 "nbformat": 4,
 "nbformat_minor": 5
}
