{
 "cells": [
  {
   "cell_type": "code",
   "execution_count": 1,
   "id": "d6286744",
   "metadata": {},
   "outputs": [],
   "source": [
    "import stl\n",
    "from stl import mesh\n",
    "import numpy as np\n",
    "from scipy.optimize import minimize\n",
    "from scipy.spatial import Delaunay\n",
    "import matplotlib.pyplot as plt\n",
    "from scipy.optimize import NonlinearConstraint"
   ]
  },
  {
   "cell_type": "code",
   "execution_count": 2,
   "id": "92b2bf96",
   "metadata": {},
   "outputs": [
    {
     "data": {
      "text/plain": [
       "0.0"
      ]
     },
     "execution_count": 2,
     "metadata": {},
     "output_type": "execute_result"
    }
   ],
   "source": [
    "your_mesh0 = mesh.Mesh.from_file(\"rectangle.stl\")\n",
    "your_mesh1 = mesh.Mesh.from_file(\"square.stl\")\n",
    "#volume, cog, inertia = your_mesh0.get_mass_properties()\n",
    "np.min(your_mesh0.x)"
   ]
  },
  {
   "cell_type": "code",
   "execution_count": null,
   "id": "1efd3e9f",
   "metadata": {
    "scrolled": true
   },
   "outputs": [
    {
     "name": "stdout",
     "output_type": "stream",
     "text": [
      "start optimizing\n"
     ]
    },
    {
     "name": "stderr",
     "output_type": "stream",
     "text": [
      "/tmp/ipykernel_36357/3150383900.py:155: OptimizeWarning: Unknown solver options: gtol\n",
      "  wopt = minimize(fG, w, jac=fdeltaG, constraints=(nlc,),\n"
     ]
    }
   ],
   "source": [
    "def to2Dlize(your_mesh0):\n",
    "    mesh2D0=np.zeros([len(your_mesh0[:,0]),6])\n",
    "    for i in range(len(your_mesh0)):\n",
    "        mesh2D0[i,0]=your_mesh0[i,0]\n",
    "        mesh2D0[i,1]=your_mesh0[i,1]\n",
    "        mesh2D0[i,2]=your_mesh0[i,3]\n",
    "        mesh2D0[i,3]=your_mesh0[i,4]\n",
    "        mesh2D0[i,4]=your_mesh0[i,6]\n",
    "        mesh2D0[i,5]=your_mesh0[i,7]\n",
    "    return mesh2D0\n",
    "\n",
    "mesh2d0=to2Dlize(your_mesh0)\n",
    "mesh2d1=to2Dlize(your_mesh1)\n",
    "\n",
    "\n",
    "def center(mesh2d):\n",
    "    mesh2d=np.reshape(mesh2d,(mesh2d.shape[0],3,2))\n",
    "    xmin=np.min(mesh2d[:,:,0])\n",
    "    xmax=np.max(mesh2d[:,:,0])\n",
    "    ymax=np.max(mesh2d[:,:,1])\n",
    "    ymin=np.min(mesh2d[:,:,1])\n",
    "    mesh2d[:,:,0]=mesh2d[:,:,0]-(xmax+xmin)/2\n",
    "    mesh2d[:,:,1]=mesh2d[:,:,1]-(ymax+ymin)/2\n",
    "    return np.reshape(mesh2d,(mesh2d.shape[0],6))\n",
    "    \n",
    "mesh2d0=center(mesh2d0)\n",
    "mesh2d1=center(mesh2d1)\n",
    "\n",
    "\n",
    "\n",
    "def rescale(a,b,t):\n",
    "    return a+(b-a)*t\n",
    "\n",
    "def isintriangle(triangle,point):\n",
    "    def sign(p1,p2,p3):\n",
    "        return (p1[0] - p3[0]) * (p2[0] - p3[0]) - (p2[0] - p3[0]) * (p1[0] - p3[0]);\n",
    "    \n",
    "    d1=sign(point,triangle[0],triangle[1])\n",
    "    d2=sign(point,triangle[1],triangle[2])\n",
    "    d3=sign(point,triangle[2],triangle[0])\n",
    "    has_neg = (d1 < 0) or (d2 < 0) or (d3 < 0);\n",
    "    has_pos = (d1 > 0) or (d2 > 0) or (d3 > 0);\n",
    "    \n",
    "    return not(has_neg and has_pos)\n",
    "\n",
    "def isinmesh(point,mesh):\n",
    "    mesh=np.reshape(mesh,(mesh.shape[0],3,2))\n",
    "    for i in range(mesh.shape[0]):\n",
    "        if isintriangle(mesh[i],point):\n",
    "            return True\n",
    "    return False\n",
    "\n",
    "\n",
    "\n",
    "def sample(mesh,npoints):\n",
    "    ###Find a square containing it\n",
    "    xmax=-np.inf\n",
    "    ymax=-np.inf\n",
    "    xmin=np.inf\n",
    "    ymin=np.inf\n",
    "    for i in range(len(mesh)):\n",
    "        xmaxtemp=np.max(mesh[i,0::2])\n",
    "        xmintemp=np.min(mesh[i,0::2])\n",
    "        if xmaxtemp>=xmax:\n",
    "            xmax=xmaxtemp\n",
    "        if xmintemp<=xmin:\n",
    "            xmin=xmintemp\n",
    "        ymaxtemp=np.max(mesh[i,1::2])\n",
    "        ymintemp=np.min(mesh[i,1::2])\n",
    "\n",
    "        if ymaxtemp>=ymax:\n",
    "            ymax=ymaxtemp\n",
    "        if ymintemp<=ymin:\n",
    "            ymin=ymintemp\n",
    "\n",
    "        \n",
    "    points=np.zeros([npoints,2])\n",
    "    k=0\n",
    "    h=0\n",
    "    #####Add points inside the mesh to a vector\n",
    "    while k<npoints:\n",
    "        h=h+1;\n",
    "        point=np.array([rescale(xmin,xmax,np.random.rand()),rescale(ymin,ymax,np.random.rand())])\n",
    "        if (isinmesh(point,mesh)):\n",
    "            points[k]=point\n",
    "            k=k+1\n",
    "    areasquare=np.linalg.norm(xmax-xmin)*np.linalg.norm(ymax-xmin)\n",
    "    ###MCMC integration\n",
    "    area=areasquare*k/h\n",
    "    return points,area\n",
    "\n",
    "M1num,_=sample(mesh2d1,100)\n",
    "M0num,area0=sample(mesh2d0,10000)\n",
    "v=(area0/M1num.shape[0])*np.ones(M1num.shape[0])\n",
    "w=np.zeros(M1num.shape[0])\n",
    "\n",
    "def computeVoronoi(M0num,M1num,w):\n",
    "    Vor=np.zeros(M0num.shape[0])\n",
    "    for i in range(M0num.shape[0]):\n",
    "        Vor[i]=int(np.argmin(np.array([np.linalg.norm(M0num[i]-M1num[j])**2-w[j] for j in range(M1num.shape[0])])))\n",
    "    return Vor  \n",
    "\n",
    "def centroids(M0num,M1num,w):\n",
    "    V=computeVoronoi(M0num,M1num,w).astype(int)\n",
    "    centroid=np.zeros([M1num.shape[0],2])\n",
    "    counter=np.zeros(M1num.shape[0])\n",
    "    for j in range(M0num.shape[0]):\n",
    "        centroid[V[j]]=centroid[V[j]]+M0num[j]\n",
    "        counter[V[j]]=counter[V[j]]+1\n",
    "    for j in range(M1num.shape[0]): \n",
    "        if counter[j]!=0:\n",
    "            centroid[j]=centroid[j]/counter[j]\n",
    "    return centroid\n",
    "\n",
    "def G(w,M0num,M1num,v,area0):\n",
    "    Vor=computeVoronoi(M0num,M1num,w).astype(int)\n",
    "    temp=np.zeros(M1num.shape[0])\n",
    "    area=np.zeros(M1num.shape[0])\n",
    "    h=np.zeros(M1num.shape[0])\n",
    "    for j in range(M0num.shape[0]):\n",
    "        temp[Vor[j]]=temp[Vor[j]]+np.linalg.norm(M1num[Vor[j]]-M0num[j])**2\n",
    "        h[Vor[j]]=h[Vor[j]]+1\n",
    "    \n",
    "    temp1=0\n",
    "    for i in range(M1num.shape[0]):\n",
    "        if h[i]!=0:\n",
    "            area[i]=area0*h[i]/M0num.shape[0]\n",
    "            temp[i]=temp[i]*(area[i])/h[i]-w[i]*area[i]+w[i]*v[i]\n",
    "        else:\n",
    "            temp[i]=w[i]*v[i]\n",
    "        temp1=temp1+temp[i]\n",
    "    \n",
    "    return temp1\n",
    "\n",
    "def deltaG(w,M0num,M1num,v,area0):\n",
    "    Vor=computeVoronoi(M0num,M1num,w).astype(int)\n",
    "    area=np.zeros(M1num.shape[0])\n",
    "    h=np.zeros(M1num.shape[0])\n",
    "    gradient=np.zeros(M1num.shape[0])\n",
    "\n",
    "    for j in range(M0num.shape[0]):\n",
    "        h[Vor[j]]=h[Vor[j]]+1\n",
    "    \n",
    "    for i in range(M1num.shape[0]):\n",
    "        area[i]=area0*h[i]/M0num.shape[0]\n",
    "        gradient[i]=(area[i]+v[i])\n",
    "    \n",
    "    return gradient\n",
    "\n",
    "nlc = NonlinearConstraint(lambda w : np.linalg.norm(w), 0, 1)\n",
    "\n",
    "fG=lambda w: G(w,M0num,M1num,v,area0)\n",
    "fdeltaG=lambda w: deltaG(w,M0num,M1num,v,area0)\n",
    "print(\"start optimizing\")\n",
    "wopt = minimize(fG, w, jac=fdeltaG, constraints=(nlc,),\n",
    "               options={'gtol': 1e-6, 'disp': True, 'maxiter': 100})\n"
   ]
  },
  {
   "cell_type": "markdown",
   "id": "0580e7ba",
   "metadata": {},
   "source": []
  },
  {
   "cell_type": "code",
   "execution_count": null,
   "id": "95308bcd",
   "metadata": {},
   "outputs": [],
   "source": [
    "from scipy.spatial import Delaunay\n",
    "w=wopt.x\n",
    "centroid=centroids(M0num,M1num,w)\n",
    "tri=Delaunay(M1num)\n",
    "plt.triplot(M1num[:,0], M1num[:,1], tri.simplices)\n",
    "#plt.triplot(centroid[:,0], centroid[:,1], tri.simplices)\n"
   ]
  },
  {
   "cell_type": "code",
   "execution_count": null,
   "id": "1a12a735",
   "metadata": {},
   "outputs": [],
   "source": []
  },
  {
   "cell_type": "code",
   "execution_count": null,
   "id": "1deb9fd5",
   "metadata": {
    "scrolled": false
   },
   "outputs": [],
   "source": [
    "%matplotlib notebook\n",
    "import matplotlib.animation as animation\n",
    "fig, ax = plt.subplots(nrows=1,ncols=1,figsize=(4,4))\n",
    "\n",
    "\n",
    "def update(frame):\n",
    "    ax.clear()\n",
    "\n",
    "    ax.triplot(frame/100*M1num[:,0]+(1-frame/100)*centroid[:,0],frame/100*M1num[:,1]+(1-frame/100)*centroid[:,1], tri.simplices)\n",
    "    ax.set(xlim=(-1, 1), ylim=(-1, 1))\n",
    "\n",
    "    \n",
    "ani = animation.FuncAnimation(fig,update,range(100), blit = False)\n"
   ]
  },
  {
   "cell_type": "code",
   "execution_count": null,
   "id": "8235bb3f",
   "metadata": {},
   "outputs": [],
   "source": []
  },
  {
   "cell_type": "code",
   "execution_count": null,
   "id": "6cb188da",
   "metadata": {},
   "outputs": [],
   "source": []
  },
  {
   "cell_type": "code",
   "execution_count": null,
   "id": "04d72121",
   "metadata": {},
   "outputs": [],
   "source": []
  },
  {
   "cell_type": "code",
   "execution_count": null,
   "id": "fbaa290a",
   "metadata": {},
   "outputs": [],
   "source": []
  }
 ],
 "metadata": {
  "kernelspec": {
   "display_name": "Python 3 (ipykernel)",
   "language": "python",
   "name": "python3"
  },
  "language_info": {
   "codemirror_mode": {
    "name": "ipython",
    "version": 3
   },
   "file_extension": ".py",
   "mimetype": "text/x-python",
   "name": "python",
   "nbconvert_exporter": "python",
   "pygments_lexer": "ipython3",
   "version": "3.8.13"
  }
 },
 "nbformat": 4,
 "nbformat_minor": 5
}
