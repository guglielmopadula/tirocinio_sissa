{
 "cells": [
  {
   "cell_type": "code",
   "execution_count": 22,
   "id": "b476b9ed",
   "metadata": {},
   "outputs": [],
   "source": [
    "import numpy as np\n",
    "def readtet6(filename):\n",
    "    counter=0\n",
    "    counterfaces=0\n",
    "    countervert=0\n",
    "    X=[]\n",
    "    Y=[]\n",
    "    F=[]\n",
    "    with open(filename, \"r\") as a_file:\n",
    "        for line in a_file:\n",
    "            stripped_line = line.split()\n",
    "            if len(stripped_line)==2:\n",
    "                if counter==0:\n",
    "                    numverts=int(stripped_line[0])  \n",
    "                    counter=counter+1;\n",
    "                if counter==1:\n",
    "                    numfaces=int(stripped_line[0])  \n",
    "                    X=np.zeros([numverts,3])\n",
    "                    Y=np.zeros([numverts,3])\n",
    "                    F=np.zeros([numfaces,4],dtype=int)\n",
    "                    \n",
    "            if len(stripped_line)==6:\n",
    "                X[countervert,0]=float(stripped_line[0])\n",
    "                X[countervert,1]=float(stripped_line[1])\n",
    "                X[countervert,2]=float(stripped_line[2])\n",
    "                Y[countervert,0]=float(stripped_line[3])\n",
    "                Y[countervert,1]=float(stripped_line[4])\n",
    "                Y[countervert,2]=float(stripped_line[5])\n",
    "                countervert=countervert+1\n",
    "            if len(stripped_line)==5:\n",
    "                F[counterfaces,0]=int(stripped_line[1])\n",
    "                F[counterfaces,1]=int(stripped_line[2])\n",
    "                F[counterfaces,2]=int(stripped_line[3])\n",
    "                F[counterfaces,3]=int(stripped_line[4])\n",
    "                counterfaces=counterfaces+1\n",
    "    return X,Y,F"
   ]
  },
  {
   "cell_type": "code",
   "execution_count": 23,
   "id": "c47d48de",
   "metadata": {},
   "outputs": [
    {
     "data": {
      "text/plain": [
       "array([[ 3.72975,  4.59601,  6.12977],\n",
       "       [ 4.07835,  2.60853,  7.81193],\n",
       "       [ 8.61652,  1.56686,  4.67711],\n",
       "       ...,\n",
       "       [-5.91133,  5.66455,  5.63387],\n",
       "       [-5.23331,  5.82993,  6.13751],\n",
       "       [-5.75294,  5.08914,  6.28578]])"
      ]
     },
     "execution_count": 23,
     "metadata": {},
     "output_type": "execute_result"
    }
   ],
   "source": [
    "X,Y,F=readtet6(\"morph.tet6\")"
   ]
  },
  {
   "cell_type": "code",
   "execution_count": 30,
   "id": "3294c673",
   "metadata": {},
   "outputs": [],
   "source": [
    "def volume_tetra(a,b,c):\n",
    "    M=np.zeros([4,4])\n",
    "    M[:,0]=a\n",
    "    M[:,1]=b\n",
    "    M[:,2]=c\n",
    "    M[:,3]=1\n",
    "    return abs(np.linalg.det(M))\n",
    "        "
   ]
  },
  {
   "cell_type": "code",
   "execution_count": 34,
   "id": "ccc776d6",
   "metadata": {},
   "outputs": [],
   "source": [
    "def volume(tetramesh,F):\n",
    "    volume=0\n",
    "    for i in range(F.shape[0]):\n",
    "        volume=volume+volume_tetra(tetramesh[F[i],0],tetramesh[F[i],1],tetramesh[F[i],2])\n",
    "    return volume"
   ]
  },
  {
   "cell_type": "code",
   "execution_count": 35,
   "id": "30490ab4",
   "metadata": {},
   "outputs": [
    {
     "name": "stdout",
     "output_type": "stream",
     "text": [
      "24567.462365160885\n"
     ]
    }
   ],
   "source": [
    "print(volume(X,F))"
   ]
  },
  {
   "cell_type": "code",
   "execution_count": null,
   "id": "af11268b",
   "metadata": {},
   "outputs": [],
   "source": []
  }
 ],
 "metadata": {
  "kernelspec": {
   "display_name": "Python 3 (ipykernel)",
   "language": "python",
   "name": "python3"
  },
  "language_info": {
   "codemirror_mode": {
    "name": "ipython",
    "version": 3
   },
   "file_extension": ".py",
   "mimetype": "text/x-python",
   "name": "python",
   "nbconvert_exporter": "python",
   "pygments_lexer": "ipython3",
   "version": "3.8.13"
  }
 },
 "nbformat": 4,
 "nbformat_minor": 5
}
