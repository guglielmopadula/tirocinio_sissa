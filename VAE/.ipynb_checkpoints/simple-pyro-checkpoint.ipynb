{
 "cells": [
  {
   "cell_type": "code",
   "execution_count": 1,
   "id": "d4862ec7-2e5f-453e-bd39-40cf5e0b2848",
   "metadata": {
    "tags": []
   },
   "outputs": [
    {
     "name": "stderr",
     "output_type": "stream",
     "text": [
      "/home/cyberguli/.conda/envs/sissa/lib/python3.8/site-packages/tqdm/auto.py:22: TqdmWarning: IProgress not found. Please update jupyter and ipywidgets. See https://ipywidgets.readthedocs.io/en/stable/user_install.html\n",
      "  from .autonotebook import tqdm as notebook_tqdm\n"
     ]
    }
   ],
   "source": [
    "import numpy as np\n",
    "from torch.utils.data import DataLoader\n",
    "from stl import mesh\n",
    "from torch.utils.data import Dataset\n",
    "import os\n",
    "import torch\n",
    "import torch.nn as nn\n",
    "import torchvision.transforms as transforms\n",
    "import matplotlib.pyplot as plt\n",
    "import pyro\n",
    "import pyro.distributions as dist\n",
    "import torch.nn.functional as F\n",
    "from pyro.infer import SVI, JitTrace_ELBO, Trace_ELBO\n",
    "from pyro.optim import Adam\n",
    "from ordered_set import OrderedSet\n",
    "import pyro.poutine as poutine\n",
    "device = 'cuda' if torch.cuda.is_available() else 'cpu'\n",
    "use_cuda=True if torch.cuda.is_available() else False\n",
    "#device='cpu' \n",
    "torch.manual_seed(0)\n",
    "import math\n"
   ]
  },
  {
   "cell_type": "code",
   "execution_count": null,
   "id": "1555c9c6-307c-4232-b187-fa4ffd539604",
   "metadata": {},
   "outputs": [],
   "source": []
  },
  {
   "cell_type": "code",
   "execution_count": null,
   "id": "bf8ef031-6426-452f-a21a-1b461cc5450b",
   "metadata": {},
   "outputs": [],
   "source": []
  },
  {
   "cell_type": "code",
   "execution_count": null,
   "id": "4efd8e62-33b5-4145-99e3-f47519a7de50",
   "metadata": {},
   "outputs": [],
   "source": []
  },
  {
   "cell_type": "code",
   "execution_count": 2,
   "id": "33b39bfc-3752-4cde-92eb-b16f0b945871",
   "metadata": {},
   "outputs": [],
   "source": [
    "def getinfo(stl):\n",
    "    your_mesh = mesh.Mesh.from_file(stl)\n",
    "    myList = list(OrderedSet(tuple(map(tuple,your_mesh.vectors.reshape(36,3)))))\n",
    "    K=len(your_mesh)\n",
    "    array=your_mesh.vectors\n",
    "    topo=np.zeros((12,3))\n",
    "    for i in range(12):\n",
    "        for j in range(3):\n",
    "            topo[i,j]=myList.index(tuple(array[i,j].tolist()))\n",
    "    N=9*K\n",
    "    return torch.tensor(array.copy()),torch.tensor(myList),N,len(myList)*3,torch.tensor(topo, dtype=torch.int64)\n",
    "    \n",
    "def applytopology(V,M):\n",
    "    Q=torch.zeros((M.shape[0],3,3),device=device)\n",
    "    for i in range(M.shape[0]):\n",
    "        for j in range(M.shape[1]):\n",
    "            Q[i,j]=V[M[i,j].item()]\n",
    "    return Q"
   ]
  },
  {
   "cell_type": "code",
   "execution_count": 3,
   "id": "3c2844e4",
   "metadata": {},
   "outputs": [
    {
     "data": {
      "text/plain": [
       "'\\ndata=[]\\nM=0\\nN=0\\nK=0\\nfor i in range(1,1000):\\n    meshs,points,N,K,M=getinfo(\"parallelepiped_{}.stl\".format(i))\\n    if device!=\\'cpu\\':\\n        meshs=meshs.to(device)\\n    data.append(meshs)\\n\\nif device!=\\'cpu\\':\\n    M=M.to(device)\\n    \\ndatatrain=data[1:len(data)//3]\\ndatatest=data[len(data)//3:]\\ndatatraintorch=torch.zeros(len(datatrain),datatrain[0].shape[0],datatrain[0].shape[1],datatrain[0].shape[2],dtype=datatrain[0].dtype, device=device)\\ndatatesttorch=torch.zeros(len(datatest),datatest[0].shape[0],datatest[0].shape[1],datatest[0].shape[2],dtype=datatest[0].dtype, device=device)\\nfor i in range(len(datatrain)):\\n    datatraintorch[i:]=datatrain[i]\\nfor i in range(len(datatest)):\\n    datatesttorch[i:]=datatest[i]\\n'"
      ]
     },
     "execution_count": 3,
     "metadata": {},
     "output_type": "execute_result"
    }
   ],
   "source": [
    "'''\n",
    "data=[]\n",
    "M=0\n",
    "N=0\n",
    "K=0\n",
    "for i in range(1,1000):\n",
    "    meshs,points,N,K,M=getinfo(\"parallelepiped_{}.stl\".format(i))\n",
    "    if device!='cpu':\n",
    "        meshs=meshs.to(device)\n",
    "    data.append(meshs)\n",
    "\n",
    "if device!='cpu':\n",
    "    M=M.to(device)\n",
    "    \n",
    "datatrain=data[1:len(data)//3]\n",
    "datatest=data[len(data)//3:]\n",
    "datatraintorch=torch.zeros(len(datatrain),datatrain[0].shape[0],datatrain[0].shape[1],datatrain[0].shape[2],dtype=datatrain[0].dtype, device=device)\n",
    "datatesttorch=torch.zeros(len(datatest),datatest[0].shape[0],datatest[0].shape[1],datatest[0].shape[2],dtype=datatest[0].dtype, device=device)\n",
    "for i in range(len(datatrain)):\n",
    "    datatraintorch[i:]=datatrain[i]\n",
    "for i in range(len(datatest)):\n",
    "    datatesttorch[i:]=datatest[i]\n",
    "'''\n"
   ]
  },
  {
   "cell_type": "code",
   "execution_count": 4,
   "id": "0078fa6d",
   "metadata": {},
   "outputs": [
    {
     "ename": "FileNotFoundError",
     "evalue": "[Errno 2] No such file or directory: 'parallelepiped_1.stl'",
     "output_type": "error",
     "traceback": [
      "\u001b[0;31m---------------------------------------------------------------------------\u001b[0m",
      "\u001b[0;31mFileNotFoundError\u001b[0m                         Traceback (most recent call last)",
      "\u001b[0;32m/tmp/ipykernel_118185/2592545725.py\u001b[0m in \u001b[0;36m<cell line: 5>\u001b[0;34m()\u001b[0m\n\u001b[1;32m      4\u001b[0m \u001b[0mK\u001b[0m\u001b[0;34m=\u001b[0m\u001b[0;36m0\u001b[0m\u001b[0;34m\u001b[0m\u001b[0;34m\u001b[0m\u001b[0m\n\u001b[1;32m      5\u001b[0m \u001b[0;32mfor\u001b[0m \u001b[0mi\u001b[0m \u001b[0;32min\u001b[0m \u001b[0mrange\u001b[0m\u001b[0;34m(\u001b[0m\u001b[0;36m1\u001b[0m\u001b[0;34m,\u001b[0m\u001b[0;36m10000\u001b[0m\u001b[0;34m)\u001b[0m\u001b[0;34m:\u001b[0m\u001b[0;34m\u001b[0m\u001b[0;34m\u001b[0m\u001b[0m\n\u001b[0;32m----> 6\u001b[0;31m     \u001b[0mmeshs\u001b[0m\u001b[0;34m,\u001b[0m\u001b[0mpoints\u001b[0m\u001b[0;34m,\u001b[0m\u001b[0mN\u001b[0m\u001b[0;34m,\u001b[0m\u001b[0mK\u001b[0m\u001b[0;34m,\u001b[0m\u001b[0mM\u001b[0m\u001b[0;34m=\u001b[0m\u001b[0mgetinfo\u001b[0m\u001b[0;34m(\u001b[0m\u001b[0;34m\"parallelepiped_{}.stl\"\u001b[0m\u001b[0;34m.\u001b[0m\u001b[0mformat\u001b[0m\u001b[0;34m(\u001b[0m\u001b[0mi\u001b[0m\u001b[0;34m)\u001b[0m\u001b[0;34m)\u001b[0m\u001b[0;34m\u001b[0m\u001b[0;34m\u001b[0m\u001b[0m\n\u001b[0m\u001b[1;32m      7\u001b[0m     \u001b[0;32mif\u001b[0m \u001b[0mdevice\u001b[0m\u001b[0;34m!=\u001b[0m\u001b[0;34m'cpu'\u001b[0m\u001b[0;34m:\u001b[0m\u001b[0;34m\u001b[0m\u001b[0;34m\u001b[0m\u001b[0m\n\u001b[1;32m      8\u001b[0m         \u001b[0mmeshs\u001b[0m\u001b[0;34m=\u001b[0m\u001b[0mmeshs\u001b[0m\u001b[0;34m.\u001b[0m\u001b[0mto\u001b[0m\u001b[0;34m(\u001b[0m\u001b[0mdevice\u001b[0m\u001b[0;34m)\u001b[0m\u001b[0;34m\u001b[0m\u001b[0;34m\u001b[0m\u001b[0m\n",
      "\u001b[0;32m/tmp/ipykernel_118185/3721212190.py\u001b[0m in \u001b[0;36mgetinfo\u001b[0;34m(stl)\u001b[0m\n\u001b[1;32m      1\u001b[0m \u001b[0;32mdef\u001b[0m \u001b[0mgetinfo\u001b[0m\u001b[0;34m(\u001b[0m\u001b[0mstl\u001b[0m\u001b[0;34m)\u001b[0m\u001b[0;34m:\u001b[0m\u001b[0;34m\u001b[0m\u001b[0;34m\u001b[0m\u001b[0m\n\u001b[0;32m----> 2\u001b[0;31m     \u001b[0myour_mesh\u001b[0m \u001b[0;34m=\u001b[0m \u001b[0mmesh\u001b[0m\u001b[0;34m.\u001b[0m\u001b[0mMesh\u001b[0m\u001b[0;34m.\u001b[0m\u001b[0mfrom_file\u001b[0m\u001b[0;34m(\u001b[0m\u001b[0mstl\u001b[0m\u001b[0;34m)\u001b[0m\u001b[0;34m\u001b[0m\u001b[0;34m\u001b[0m\u001b[0m\n\u001b[0m\u001b[1;32m      3\u001b[0m     \u001b[0mmyList\u001b[0m \u001b[0;34m=\u001b[0m \u001b[0mlist\u001b[0m\u001b[0;34m(\u001b[0m\u001b[0mOrderedSet\u001b[0m\u001b[0;34m(\u001b[0m\u001b[0mtuple\u001b[0m\u001b[0;34m(\u001b[0m\u001b[0mmap\u001b[0m\u001b[0;34m(\u001b[0m\u001b[0mtuple\u001b[0m\u001b[0;34m,\u001b[0m\u001b[0myour_mesh\u001b[0m\u001b[0;34m.\u001b[0m\u001b[0mvectors\u001b[0m\u001b[0;34m.\u001b[0m\u001b[0mreshape\u001b[0m\u001b[0;34m(\u001b[0m\u001b[0;36m36\u001b[0m\u001b[0;34m,\u001b[0m\u001b[0;36m3\u001b[0m\u001b[0;34m)\u001b[0m\u001b[0;34m)\u001b[0m\u001b[0;34m)\u001b[0m\u001b[0;34m)\u001b[0m\u001b[0;34m)\u001b[0m\u001b[0;34m\u001b[0m\u001b[0;34m\u001b[0m\u001b[0m\n\u001b[1;32m      4\u001b[0m     \u001b[0mK\u001b[0m\u001b[0;34m=\u001b[0m\u001b[0mlen\u001b[0m\u001b[0;34m(\u001b[0m\u001b[0myour_mesh\u001b[0m\u001b[0;34m)\u001b[0m\u001b[0;34m\u001b[0m\u001b[0;34m\u001b[0m\u001b[0m\n\u001b[1;32m      5\u001b[0m     \u001b[0marray\u001b[0m\u001b[0;34m=\u001b[0m\u001b[0myour_mesh\u001b[0m\u001b[0;34m.\u001b[0m\u001b[0mvectors\u001b[0m\u001b[0;34m\u001b[0m\u001b[0;34m\u001b[0m\u001b[0m\n",
      "\u001b[0;32m~/.conda/envs/sissa/lib/python3.8/site-packages/stl/stl.py\u001b[0m in \u001b[0;36mfrom_file\u001b[0;34m(cls, filename, calculate_normals, fh, mode, speedups, **kwargs)\u001b[0m\n\u001b[1;32m    374\u001b[0m                 fh, mode=mode, speedups=speedups)\n\u001b[1;32m    375\u001b[0m         \u001b[0;32melse\u001b[0m\u001b[0;34m:\u001b[0m\u001b[0;34m\u001b[0m\u001b[0;34m\u001b[0m\u001b[0m\n\u001b[0;32m--> 376\u001b[0;31m             \u001b[0;32mwith\u001b[0m \u001b[0mopen\u001b[0m\u001b[0;34m(\u001b[0m\u001b[0mfilename\u001b[0m\u001b[0;34m,\u001b[0m \u001b[0;34m'rb'\u001b[0m\u001b[0;34m)\u001b[0m \u001b[0;32mas\u001b[0m \u001b[0mfh\u001b[0m\u001b[0;34m:\u001b[0m\u001b[0;34m\u001b[0m\u001b[0;34m\u001b[0m\u001b[0m\n\u001b[0m\u001b[1;32m    377\u001b[0m                 name, data = cls.load(\n\u001b[1;32m    378\u001b[0m                     fh, mode=mode, speedups=speedups)\n",
      "\u001b[0;31mFileNotFoundError\u001b[0m: [Errno 2] No such file or directory: 'parallelepiped_1.stl'"
     ]
    }
   ],
   "source": [
    "data=[]\n",
    "M=0\n",
    "N=0\n",
    "K=0\n",
    "for i in range(1,10000):\n",
    "    meshs,points,N,K,M=getinfo(\"parallelepiped_{}.stl\".format(i))\n",
    "    if device!='cpu':\n",
    "        meshs=meshs.to(device)\n",
    "    data.append(points)\n",
    "\n",
    "if device!='cpu':\n",
    "    M=M.to(device)\n",
    "    \n",
    "datatrain=data[0:len(data)//2]\n",
    "datatest=data[len(data)//2:]\n",
    "datatraintorch=torch.zeros(len(datatrain),datatrain[0].shape[0],datatrain[0].shape[1],dtype=datatrain[0].dtype, device=device)\n",
    "datatesttorch=torch.zeros(len(datatest),datatest[0].shape[0],datatest[0].shape[1],dtype=datatest[0].dtype, device=device)\n",
    "for i in range(len(datatrain)):\n",
    "    datatraintorch[i:]=datatrain[i]\n",
    "for i in range(len(datatest)):\n",
    "    datatesttorch[i:]=datatest[i]\n",
    "N=24\n"
   ]
  },
  {
   "cell_type": "code",
   "execution_count": 7,
   "id": "de9d29c5-c385-414f-9003-a7231cefb4b9",
   "metadata": {},
   "outputs": [
    {
     "ename": "NameError",
     "evalue": "name 'datatraintorch' is not defined",
     "output_type": "error",
     "traceback": [
      "\u001b[0;31m---------------------------------------------------------------------------\u001b[0m",
      "\u001b[0;31mNameError\u001b[0m                                 Traceback (most recent call last)",
      "\u001b[0;32m/tmp/ipykernel_118185/2458068497.py\u001b[0m in \u001b[0;36m<cell line: 34>\u001b[0;34m()\u001b[0m\n\u001b[1;32m     32\u001b[0m \u001b[0;34m\u001b[0m\u001b[0m\n\u001b[1;32m     33\u001b[0m \u001b[0;34m\u001b[0m\u001b[0m\n\u001b[0;32m---> 34\u001b[0;31m \u001b[0;32mclass\u001b[0m \u001b[0mVAE\u001b[0m\u001b[0;34m(\u001b[0m\u001b[0mnn\u001b[0m\u001b[0;34m.\u001b[0m\u001b[0mModule\u001b[0m\u001b[0;34m)\u001b[0m\u001b[0;34m:\u001b[0m\u001b[0;34m\u001b[0m\u001b[0;34m\u001b[0m\u001b[0m\n\u001b[0m\u001b[1;32m     35\u001b[0m     \u001b[0;32mdef\u001b[0m \u001b[0m__init__\u001b[0m\u001b[0;34m(\u001b[0m\u001b[0mself\u001b[0m\u001b[0;34m,\u001b[0m \u001b[0mz_dim\u001b[0m\u001b[0;34m=\u001b[0m\u001b[0;36m2\u001b[0m\u001b[0;34m,\u001b[0m \u001b[0mhidden_dim\u001b[0m\u001b[0;34m=\u001b[0m\u001b[0;36m30\u001b[0m\u001b[0;34m,\u001b[0m \u001b[0muse_cuda\u001b[0m\u001b[0;34m=\u001b[0m\u001b[0;32mFalse\u001b[0m\u001b[0;34m)\u001b[0m\u001b[0;34m:\u001b[0m\u001b[0;34m\u001b[0m\u001b[0;34m\u001b[0m\u001b[0m\n\u001b[1;32m     36\u001b[0m         \u001b[0msuper\u001b[0m\u001b[0;34m(\u001b[0m\u001b[0;34m)\u001b[0m\u001b[0;34m.\u001b[0m\u001b[0m__init__\u001b[0m\u001b[0;34m(\u001b[0m\u001b[0;34m)\u001b[0m\u001b[0;34m\u001b[0m\u001b[0;34m\u001b[0m\u001b[0m\n",
      "\u001b[0;32m/tmp/ipykernel_118185/2458068497.py\u001b[0m in \u001b[0;36mVAE\u001b[0;34m()\u001b[0m\n\u001b[1;32m     42\u001b[0m         \u001b[0mself\u001b[0m\u001b[0;34m.\u001b[0m\u001b[0mz_dim\u001b[0m \u001b[0;34m=\u001b[0m \u001b[0mz_dim\u001b[0m\u001b[0;34m\u001b[0m\u001b[0;34m\u001b[0m\u001b[0m\n\u001b[1;32m     43\u001b[0m \u001b[0;34m\u001b[0m\u001b[0m\n\u001b[0;32m---> 44\u001b[0;31m     \u001b[0;34m@\u001b[0m\u001b[0mpoutine\u001b[0m\u001b[0;34m.\u001b[0m\u001b[0mscale\u001b[0m\u001b[0;34m(\u001b[0m\u001b[0mscale\u001b[0m\u001b[0;34m=\u001b[0m\u001b[0;36m1.0\u001b[0m\u001b[0;34m/\u001b[0m\u001b[0mdatatraintorch\u001b[0m\u001b[0;34m.\u001b[0m\u001b[0mshape\u001b[0m\u001b[0;34m[\u001b[0m\u001b[0;36m0\u001b[0m\u001b[0;34m]\u001b[0m\u001b[0;34m)\u001b[0m\u001b[0;34m\u001b[0m\u001b[0;34m\u001b[0m\u001b[0m\n\u001b[0m\u001b[1;32m     45\u001b[0m     \u001b[0;32mdef\u001b[0m \u001b[0mmodel\u001b[0m\u001b[0;34m(\u001b[0m\u001b[0mself\u001b[0m\u001b[0;34m,\u001b[0m\u001b[0mx\u001b[0m\u001b[0;34m)\u001b[0m\u001b[0;34m:\u001b[0m\u001b[0;34m\u001b[0m\u001b[0;34m\u001b[0m\u001b[0m\n\u001b[1;32m     46\u001b[0m         \u001b[0mpyro\u001b[0m\u001b[0;34m.\u001b[0m\u001b[0mmodule\u001b[0m\u001b[0;34m(\u001b[0m\u001b[0;34m\"decoder\"\u001b[0m\u001b[0;34m,\u001b[0m \u001b[0mself\u001b[0m\u001b[0;34m.\u001b[0m\u001b[0mdecoder\u001b[0m\u001b[0;34m)\u001b[0m\u001b[0;34m\u001b[0m\u001b[0;34m\u001b[0m\u001b[0m\n",
      "\u001b[0;31mNameError\u001b[0m: name 'datatraintorch' is not defined"
     ]
    }
   ],
   "source": [
    "class Decoder(nn.Module):\n",
    "    def __init__(self, z_dim, hidden_dim):\n",
    "        super().__init__()\n",
    "        self.fc1 = nn.Linear(z_dim, hidden_dim)\n",
    "        self.fc2 = nn.Linear(hidden_dim, hidden_dim)\n",
    "        self.fc3 = nn.Linear(hidden_dim, hidden_dim)\n",
    "        self.fc4 = nn.Linear(hidden_dim, N)\n",
    "        self.tanh = nn.Tanh()\n",
    "\n",
    "    def forward(self, z):\n",
    "        result=self.fc4(self.fc3(self.fc2(self.fc1(z))))\n",
    "        return result\n",
    "\n",
    "class Encoder(nn.Module):\n",
    "    def __init__(self, z_dim, hidden_dim):\n",
    "        super().__init__()\n",
    "        self.fc1 = nn.Linear(N,hidden_dim)\n",
    "        self.fc21 = nn.Linear(hidden_dim, hidden_dim)\n",
    "        self.fc31 = nn.Linear(hidden_dim, z_dim)\n",
    "        self.fc22 = nn.Linear(hidden_dim, z_dim)\n",
    "        self.fc41=nn.Tanh()\n",
    "        self.fc32 = nn.Sigmoid()\n",
    "\n",
    "\n",
    "\n",
    "    def forward(self, x):\n",
    "        x=x.reshape(-1,N)\n",
    "        hidden=self.fc1(x)\n",
    "        mu=self.fc41(self.fc31(self.fc21(hidden)))\n",
    "        sigma=1/(2*math.exp(1))*torch.exp(self.fc32(self.fc22(hidden)))\n",
    "        return mu,sigma\n",
    "\n",
    "        \n",
    "class VAE(nn.Module):\n",
    "    def __init__(self, z_dim=2, hidden_dim=30, use_cuda=False):\n",
    "        super().__init__()\n",
    "        self.encoder = Encoder(z_dim, hidden_dim)\n",
    "        self.decoder = Decoder(z_dim, hidden_dim)\n",
    "        if use_cuda:\n",
    "            self.cuda()\n",
    "        self.use_cuda=use_cuda\n",
    "        self.z_dim = z_dim\n",
    "        \n",
    "    @poutine.scale(scale=1.0/datatraintorch.shape[0])\n",
    "    def model(self,x):\n",
    "        pyro.module(\"decoder\", self.decoder)\n",
    "        with pyro.plate(\"data\", x.shape[0]):\n",
    "            # setup hyperparameters for prior p(z)\n",
    "            z_loc = torch.zeros(x.shape[0], self.z_dim, dtype=x.dtype, device=x.device)\n",
    "            z_scale = torch.ones(x.shape[0], self.z_dim, dtype=x.dtype, device=x.device)\n",
    "            # sample from prior (value will be sampled by guide when computing the ELBO)\n",
    "            z = pyro.sample(\"latent\", dist.Normal(z_loc, z_scale).to_event(1))\n",
    "            # decode the latent code z\n",
    "            x_hat = self.decoder.forward(z)\n",
    "            # score against actual images (with relaxed Bernoulli values)\n",
    "            pyro.sample(\n",
    "                \"obs\",\n",
    "                dist.Normal(x_hat, (1e-07)*torch.ones(x_hat.shape, dtype=x.dtype, device=x.device), validate_args=False).to_event(1),\n",
    "                obs=x.reshape(-1, N),\n",
    "            )\n",
    "            # return the loc so we can visualize it later\n",
    "            return x_hat\n",
    "\n",
    "    @poutine.scale(scale=1.0/datatraintorch.shape[0])   \n",
    "    def guide(self, x):\n",
    "        # register PyTorch module `encoder` with Pyro\n",
    "        pyro.module(\"encoder\", self.encoder)\n",
    "        with pyro.plate(\"data\", x.shape[0]):\n",
    "            # use the encoder to get the parameters used to define q(z|x)\n",
    "            z_loc, z_scale = self.encoder.forward(x)\n",
    "            # sample the latent code z\n",
    "            pyro.sample(\"latent\", dist.Normal(z_loc, z_scale).to_event(1))\n",
    "\n",
    "    \n",
    "    def apply_vae_verbose(self,x):\n",
    "        z_loc, z_scale = self.encoder(x)\n",
    "        # sample in latent space\n",
    "        z = dist.Normal(z_loc, z_scale).sample()\n",
    "        print(\"scale is\",z_scale,\"mean is\", z_loc)\n",
    "        # decode the image (note we don't sample in image space)\n",
    "        loc_img = self.decoder(z)\n",
    "        return loc_img\n",
    "    \n",
    "    def apply_vae(self,x):\n",
    "        z_loc, z_scale = self.encoder(x)\n",
    "        # sample in latent space\n",
    "        z = dist.Normal(z_loc, z_scale).sample()\n",
    "        # decode the image (note we don't sample in image space)\n",
    "        loc_img = self.decoder(z)\n",
    "        return loc_img\n",
    "\n",
    "\n",
    "    def sample_mesh(self):\n",
    "        z_loc = torch.zeros(self.z_dim,device=device)\n",
    "        z_scale = torch.ones(self.z_dim,device=device)\n",
    "        z = pyro.sample(\"latent\", dist.Normal(z_loc, z_scale))\n",
    "        a=self.decoder.forward(z_loc)\n",
    "        return a.reshape(8,3)\n",
    "    \n",
    "\n",
    "    \n",
    "def train(vae,datatraintorch,datatesttorch,epochs=10000):\n",
    "    pyro.clear_param_store()\n",
    "    elbotrain=[]\n",
    "    elbotest=[]\n",
    "    errortest=[]\n",
    "    adam_args = {\"lr\": 0.0001}\n",
    "    optimizer = Adam(adam_args)\n",
    "    elbo = Trace_ELBO()\n",
    "    svi = SVI(vae.model, vae.guide, optimizer, loss=elbo)\n",
    "    for epoch in range(epochs):\n",
    "        if epoch%1000==0:\n",
    "            print(epoch)\n",
    "        elbotest.append(svi.evaluate_loss(datatesttorch))\n",
    "        temp=(1/(24*100))*(((vae.apply_vae(datatesttorch[0:100])-datatesttorch[0:100].reshape(-1,24))**2).sum())\n",
    "        errortest.append(temp.clone().detach().cpu())\n",
    "        elbotrain.append(svi.step(datatraintorch))\n",
    "    return elbotrain,elbotest,errortest\n",
    "\n",
    "\n",
    "\n"
   ]
  },
  {
   "cell_type": "code",
   "execution_count": null,
   "id": "a9d7f8f6",
   "metadata": {},
   "outputs": [],
   "source": [
    "vae = VAE(use_cuda=use_cuda)\n"
   ]
  },
  {
   "cell_type": "code",
   "execution_count": null,
   "id": "a652a8a8-d8eb-4795-83e4-35dc2d18a20c",
   "metadata": {},
   "outputs": [],
   "source": [
    "#vae.load_state_dict(torch.load(\"cube.pt\"))\n",
    "elbotrain,elbotest,errortest = train(vae,datatraintorch, datatesttorch)\n"
   ]
  },
  {
   "cell_type": "code",
   "execution_count": null,
   "id": "07580667-b766-4b76-bdaf-fbf07ac34214",
   "metadata": {},
   "outputs": [],
   "source": [
    "fig, axs = plt.subplots(2)\n",
    "\n",
    "axs[0].plot([i for i in range(len(elbotrain))],elbotrain)\n",
    "axs[0].plot([i for i in range(len(elbotest))],elbotest)\n",
    "axs[1].plot([i for i in range(len(errortest))],errortest)\n"
   ]
  },
  {
   "cell_type": "code",
   "execution_count": null,
   "id": "d3c4770b",
   "metadata": {},
   "outputs": [],
   "source": [
    "temp=vae.sample_mesh()\n",
    "a=applytopology(temp,M).cpu().detach().numpy()\n",
    "cube = mesh.Mesh(np.zeros(12, dtype=mesh.Mesh.dtype))\n",
    "cube.vectors=a\n",
    "cube.save('test.stl')\n",
    "cube= mesh.Mesh.from_file('test.stl')\n"
   ]
  },
  {
   "cell_type": "code",
   "execution_count": null,
   "id": "ca148633-a706-4b07-a127-90ef4efeab27",
   "metadata": {},
   "outputs": [],
   "source": [
    "print(datatesttorch[30])\n",
    "print(vae.apply_vae(datatesttorch[30]).reshape(8,3))\n",
    "print(datatesttorch[31])\n",
    "print(vae.apply_vae(datatesttorch[31]).reshape(8,3))\n"
   ]
  },
  {
   "cell_type": "code",
   "execution_count": null,
   "id": "acf74acd-deb6-4161-8b30-a4ed888bdd7e",
   "metadata": {},
   "outputs": [],
   "source": []
  },
  {
   "cell_type": "code",
   "execution_count": null,
   "id": "2a31bf28-49da-41b8-9060-ebb1fefbd0e9",
   "metadata": {},
   "outputs": [],
   "source": []
  },
  {
   "cell_type": "code",
   "execution_count": null,
   "id": "39967648-1d04-4cd8-afe3-71b925548cfd",
   "metadata": {},
   "outputs": [],
   "source": []
  }
 ],
 "metadata": {
  "kernelspec": {
   "display_name": "Python 3 (ipykernel)",
   "language": "python",
   "name": "python3"
  },
  "language_info": {
   "codemirror_mode": {
    "name": "ipython",
    "version": 3
   },
   "file_extension": ".py",
   "mimetype": "text/x-python",
   "name": "python",
   "nbconvert_exporter": "python",
   "pygments_lexer": "ipython3",
   "version": "3.8.12"
  }
 },
 "nbformat": 4,
 "nbformat_minor": 5
}
