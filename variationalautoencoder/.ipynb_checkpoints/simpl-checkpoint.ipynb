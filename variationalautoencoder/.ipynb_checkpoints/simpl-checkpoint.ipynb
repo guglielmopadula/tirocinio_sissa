{
 "cells": [
  {
   "cell_type": "code",
   "execution_count": 1,
   "id": "d4862ec7-2e5f-453e-bd39-40cf5e0b2848",
   "metadata": {
    "tags": []
   },
   "outputs": [
    {
     "name": "stderr",
     "output_type": "stream",
     "text": [
      "/home/cyberguli/.conda/envs/sissa/lib/python3.8/site-packages/tqdm/auto.py:22: TqdmWarning: IProgress not found. Please update jupyter and ipywidgets. See https://ipywidgets.readthedocs.io/en/stable/user_install.html\n",
      "  from .autonotebook import tqdm as notebook_tqdm\n",
      "/home/cyberguli/.conda/envs/sissa/lib/python3.8/site-packages/torch/cuda/__init__.py:82: UserWarning: CUDA initialization: Unexpected error from cudaGetDeviceCount(). Did you run some cuda functions before calling NumCudaDevices() that might have already set an error? Error 803: system has unsupported display driver / cuda driver combination (Triggered internally at  /opt/conda/conda-bld/pytorch_1646755903507/work/c10/cuda/CUDAFunctions.cpp:112.)\n",
      "  return torch._C._cuda_getDeviceCount() > 0\n"
     ]
    },
    {
     "data": {
      "text/plain": [
       "<torch._C.Generator at 0x7fdf63e7f450>"
      ]
     },
     "execution_count": 1,
     "metadata": {},
     "output_type": "execute_result"
    }
   ],
   "source": [
    "import numpy as np\n",
    "import stl\n",
    "from torch.utils.data import DataLoader\n",
    "from stl import mesh\n",
    "from torch.utils.data import Dataset\n",
    "import os\n",
    "import torch\n",
    "import torch.nn as nn\n",
    "import torchvision.transforms as transforms\n",
    "import matplotlib.pyplot as plt\n",
    "from ordered_set import OrderedSet\n",
    "device = 'cuda' if torch.cuda.is_available() else 'cpu'\n",
    "#device='cpu'\n",
    "torch.manual_seed(0)\n"
   ]
  },
  {
   "cell_type": "code",
   "execution_count": 2,
   "id": "1555c9c6-307c-4232-b187-fa4ffd539604",
   "metadata": {},
   "outputs": [],
   "source": [
    "def torchfromrimd(file):\n",
    "    with open(file,'r') as f:\n",
    "        listl=[]\n",
    "        for line in f:\n",
    "            strip_lines=line.strip()\n",
    "            listli=strip_lines.split()\n",
    "            listl=listl+[float(x) for x in listli]\n",
    "    M=torch.tensor(np.array(listl),dtype=torch.float)\n",
    "    return M\n",
    "A=torchfromrimd(\"cube_1.txt\")\n",
    "\n",
    "\n"
   ]
  },
  {
   "cell_type": "code",
   "execution_count": 3,
   "id": "bf8ef031-6426-452f-a21a-1b461cc5450b",
   "metadata": {},
   "outputs": [],
   "source": [
    "combined=torch.zeros([A.shape[0],999],dtype=torch.float).to(device)\n",
    "for i in range(1,999):\n",
    "    combined[:,i]=torchfromrimd(\"cube_{}.txt\".format(i)).to(device)\n",
    "maxcombined=torch.max(combined,1).values\n",
    "mincombined=torch.min(combined,1).values\n",
    "processedcombined=torch.zeros([A.shape[0],999],dtype=torch.float).to(device)\n",
    "for i in range(1,A.shape[0]):\n",
    "    if(abs(maxcombined[i]-mincombined[i])>0.005):\n",
    "        processedcombined[i,:]=1.8*(combined[i,:]-mincombined[i])/(maxcombined[i]-mincombined[i])-0.9\n",
    "    else:\n",
    "        processedcombined[i,:]=combined[i,:]\n",
    "data=[]\n",
    "for j in range(1,999):\n",
    "    data.append(processedcombined[:,j].to(device))\n"
   ]
  },
  {
   "cell_type": "code",
   "execution_count": null,
   "id": "4efd8e62-33b5-4145-99e3-f47519a7de50",
   "metadata": {},
   "outputs": [],
   "source": []
  },
  {
   "cell_type": "code",
   "execution_count": null,
   "id": "33b39bfc-3752-4cde-92eb-b16f0b945871",
   "metadata": {},
   "outputs": [],
   "source": []
  },
  {
   "cell_type": "code",
   "execution_count": null,
   "id": "3c2844e4",
   "metadata": {},
   "outputs": [],
   "source": [
    "\n"
   ]
  },
  {
   "cell_type": "code",
   "execution_count": 15,
   "id": "de9d29c5-c385-414f-9003-a7231cefb4b9",
   "metadata": {},
   "outputs": [],
   "source": [
    "K=A.shape[0]\n",
    "class Decoder(nn.Module):\n",
    "    def __init__(self, z_dim, hidden_dim):\n",
    "        super().__init__()\n",
    "        self.fc1 = nn.Linear(z_dim, hidden_dim)\n",
    "        self.fc2 = nn.Linear(hidden_dim, K)\n",
    "        self.tanh = nn.Tanh()\n",
    "\n",
    "    def forward(self, z):\n",
    "        temp=self.tanh(self.fc2(self.fc1(z)))\n",
    "        return temp\n",
    "\n",
    "class Encoder(nn.Module):\n",
    "    def __init__(self, z_dim, hidden_dim):\n",
    "        super().__init__()\n",
    "        self.fc1 = nn.Linear(K,hidden_dim)\n",
    "        self.fc21 = nn.Linear(hidden_dim, z_dim)\n",
    "        self.fc22 = nn.Linear(hidden_dim, z_dim)\n",
    "        self.fc31=nn.Tanh()\n",
    "        self.fc33 = nn.Sigmoid()\n",
    "        self.Normal = torch.distributions.Normal(0, 1)\n",
    "        self.fc32=torch.nn.ELU(alpha=2.0)\n",
    "        if device!='cpu':\n",
    "            self.Normal.loc = self.Normal.loc.cuda() \n",
    "            self.Normal.scale = self.Normal.scale.cuda()\n",
    "        self.kl = 0\n",
    "\n",
    "\n",
    "\n",
    "    def forward(self, x):\n",
    "        hidden=self.fc1(x)\n",
    "        mu=self.fc31(self.fc21(hidden))\n",
    "        sigma=self.fc33(self.fc32(self.fc22(hidden)))\n",
    "        z = mu + sigma*self.Normal.sample(mu.shape)\n",
    "        self.kl = (((sigma**2)/2 + (mu**2)/2 - torch.log(sigma) - 1/2).sum())\n",
    "        return z\n",
    "\n",
    "        \n",
    "class VAE(nn.Module):\n",
    "    def __init__(self, z_dim=128, hidden_dim=300, use_cuda=False):\n",
    "        super().__init__()\n",
    "        self.encoder = Encoder(z_dim, hidden_dim)\n",
    "        self.decoder = Decoder(z_dim, hidden_dim)\n",
    "        self.z_dim = z_dim\n",
    "        \n",
    "\n",
    "    def forward(self, x):\n",
    "        z = self.encoder(x)\n",
    "        return self.decoder(z)\n",
    "\n",
    "\n",
    "def train(vae, data,epochs=50):\n",
    "    error=[]\n",
    "    opt = torch.optim.Adam(vae.parameters(),lr=0.0001)\n",
    "    for epoch in range(epochs):\n",
    "        loss=0\n",
    "        for x in data:\n",
    "            x=x.to(device) # GPU\n",
    "            opt.zero_grad()\n",
    "            x_hat = vae(x)\n",
    "            loss = 1/(2*K*len(data))*((x - x_hat)**2).sum()+vae.encoder.kl\n",
    "        loss=loss+vae.encoder.kl\n",
    "        loss.backward()\n",
    "        opt.step()\n",
    "        error.append(loss.clone().detach().item())\n",
    "    return vae,error\n",
    "\n",
    "\n",
    "\n",
    "\n"
   ]
  },
  {
   "cell_type": "code",
   "execution_count": 16,
   "id": "a652a8a8-d8eb-4795-83e4-35dc2d18a20c",
   "metadata": {},
   "outputs": [
    {
     "data": {
      "text/plain": [
       "[<matplotlib.lines.Line2D at 0x7fdea408b460>]"
      ]
     },
     "execution_count": 16,
     "metadata": {},
     "output_type": "execute_result"
    },
    {
     "data": {
      "image/png": "[encoded data removed]",
      "text/plain": [
       "<Figure size 432x288 with 1 Axes>"
      ]
     },
     "metadata": {
      "needs_background": "light"
     },
     "output_type": "display_data"
    }
   ],
   "source": [
    "vae = VAE().to(device) # GPU\n",
    " # GPU\n",
    "vae,error = train(vae, data)\n",
    "plt.plot([i for i in range(len(error))],error)"
   ]
  },
  {
   "cell_type": "code",
   "execution_count": null,
   "id": "07580667-b766-4b76-bdaf-fbf07ac34214",
   "metadata": {},
   "outputs": [],
   "source": [
    "ztest=torch.distributions.Normal(0, 1).sample([50]).to(device)\n",
    "h=vae.decoder(ztest).to('cpu').detach().numpy()\n"
   ]
  },
  {
   "cell_type": "code",
   "execution_count": null,
   "id": "d3c4770b",
   "metadata": {},
   "outputs": [],
   "source": []
  },
  {
   "cell_type": "code",
   "execution_count": null,
   "id": "ca148633-a706-4b07-a127-90ef4efeab27",
   "metadata": {},
   "outputs": [],
   "source": []
  },
  {
   "cell_type": "code",
   "execution_count": null,
   "id": "acf74acd-deb6-4161-8b30-a4ed888bdd7e",
   "metadata": {},
   "outputs": [],
   "source": []
  },
  {
   "cell_type": "code",
   "execution_count": null,
   "id": "2a31bf28-49da-41b8-9060-ebb1fefbd0e9",
   "metadata": {},
   "outputs": [],
   "source": []
  },
  {
   "cell_type": "code",
   "execution_count": null,
   "id": "39967648-1d04-4cd8-afe3-71b925548cfd",
   "metadata": {},
   "outputs": [],
   "source": []
  }
 ],
 "metadata": {
  "kernelspec": {
   "display_name": "Python 3 (ipykernel)",
   "language": "python",
   "name": "python3"
  },
  "language_info": {
   "codemirror_mode": {
    "name": "ipython",
    "version": 3
   },
   "file_extension": ".py",
   "mimetype": "text/x-python",
   "name": "python",
   "nbconvert_exporter": "python",
   "pygments_lexer": "ipython3",
   "version": "3.8.12"
  }
 },
 "nbformat": 4,
 "nbformat_minor": 5
}
