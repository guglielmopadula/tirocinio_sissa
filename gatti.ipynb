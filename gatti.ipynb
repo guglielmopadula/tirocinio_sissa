{
 "cells": [
  {
   "cell_type": "code",
   "execution_count": 84,
   "id": "d4862ec7-2e5f-453e-bd39-40cf5e0b2848",
   "metadata": {},
   "outputs": [],
   "source": [
    "import numpy as np\n",
    "from stl import mesh"
   ]
  },
  {
   "cell_type": "code",
   "execution_count": 85,
   "id": "d4124b61-6b7b-4134-a031-75e9ead2d7ba",
   "metadata": {},
   "outputs": [],
   "source": [
    "your_mesh0 = mesh.Mesh.from_file('orig.stl')\n",
    "temp0=your_mesh0.data[0][1]\n",
    "for i in range(1,3430):\n",
    "    temp0=np.concatenate((temp,your_mesh.data[i][1]), axis=0)\n",
    "Pointset0 = np.unique(temp0, axis=0)\n",
    "neigh0=[]\n",
    "N=len(Pointset0)\n",
    "for i in range(len(Pointset0)):\n",
    "    lst=[]\n",
    "    for j in range(3430):\n",
    "        if Pointset0[i].tolist() in your_mesh.data[j][1].tolist():\n",
    "            for k in range(3):\n",
    "                if Pointset0[i].tolist()!=your_mesh.data[j][1][k].tolist():\n",
    "                    lst.append(your_mesh.data[j][1][k].tolist())\n",
    "    neigh0.append(lst)\n"
   ]
  },
  {
   "cell_type": "code",
   "execution_count": 83,
   "id": "6e003686-6f7e-4f19-9d52-d795db9d270e",
   "metadata": {},
   "outputs": [],
   "source": [
    "your_mesh1 = mesh.Mesh.from_file('front0.stl')\n",
    "temp1=your_mesh1.data[0][1]\n",
    "for i in range(1,3430):\n",
    "    temp1=np.concatenate((temp,your_mesh.data[i][1]), axis=0)\n",
    "Pointset1 = np.unique(temp1, axis=0)\n",
    "neigh1=[]\n",
    "N=len(Pointset1)\n",
    "for i in range(len(Pointset1)):\n",
    "    lst=[]\n",
    "    for j in range(3430):\n",
    "        if Pointset1[i].tolist() in your_mesh.data[j][1].tolist():\n",
    "            for k in range(3):\n",
    "                if Pointset1[i].tolist()!=your_mesh.data[j][1][k].tolist():\n",
    "                    lst.append(your_mesh.data[j][1][k].tolist())\n",
    "    neigh1.append(lst)"
   ]
  },
  {
   "cell_type": "code",
   "execution_count": 86,
   "id": "1555c9c6-307c-4232-b187-fa4ffd539604",
   "metadata": {},
   "outputs": [],
   "source": [
    "def calculate_angle(x,y,z):\n",
    "         return np.arccos(np.sum((x-y)*(x-z)))/(np.norm(x-y)*np.norm(x-z))"
   ]
  },
  {
   "cell_type": "code",
   "execution_count": 80,
   "id": "ab35b8aa-5738-4e2e-96ce-4761869c9790",
   "metadata": {},
   "outputs": [],
   "source": []
  },
  {
   "cell_type": "code",
   "execution_count": 81,
   "id": "8a714902-407f-48ec-928d-7be94ef5584b",
   "metadata": {},
   "outputs": [],
   "source": [
    "\n"
   ]
  },
  {
   "cell_type": "code",
   "execution_count": 79,
   "id": "1341cc95-b687-48bf-ac3b-fc45364c90b8",
   "metadata": {},
   "outputs": [
    {
     "data": {
      "text/plain": [
       "12"
      ]
     },
     "execution_count": 79,
     "metadata": {},
     "output_type": "execute_result"
    }
   ],
   "source": []
  },
  {
   "cell_type": "code",
   "execution_count": null,
   "id": "bf8ef031-6426-452f-a21a-1b461cc5450b",
   "metadata": {},
   "outputs": [],
   "source": []
  }
 ],
 "metadata": {
  "kernelspec": {
   "display_name": "Python 3 (ipykernel)",
   "language": "python",
   "name": "python3"
  },
  "language_info": {
   "codemirror_mode": {
    "name": "ipython",
    "version": 3
   },
   "file_extension": ".py",
   "mimetype": "text/x-python",
   "name": "python",
   "nbconvert_exporter": "python",
   "pygments_lexer": "ipython3",
   "version": "3.8.13"
  }
 },
 "nbformat": 4,
 "nbformat_minor": 5
}
